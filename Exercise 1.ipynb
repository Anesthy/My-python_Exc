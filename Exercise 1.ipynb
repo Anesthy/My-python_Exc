{
 "cells": [
  {
   "cell_type": "code",
   "execution_count": 44,
   "id": "442e4721",
   "metadata": {},
   "outputs": [],
   "source": [
    "# 'python programming'"
   ]
  },
  {
   "cell_type": "code",
   "execution_count": 3,
   "id": "f79e9b63",
   "metadata": {},
   "outputs": [
    {
     "data": {
      "text/plain": [
       "'C:\\\\Users\\\\Hp\\\\ML CLASS\\\\INTRODUCTION'"
      ]
     },
     "execution_count": 3,
     "metadata": {},
     "output_type": "execute_result"
    }
   ],
   "source": [
    "pwd"
   ]
  },
  {
   "cell_type": "code",
   "execution_count": 45,
   "id": "5d048d16",
   "metadata": {},
   "outputs": [],
   "source": [
    "# declaring first_name \n",
    "first_name = 'Anas'"
   ]
  },
  {
   "cell_type": "code",
   "execution_count": 46,
   "id": "6cee37a4",
   "metadata": {},
   "outputs": [],
   "source": [
    "# declaring last_name\n",
    "last_name = 'Abdullahi'"
   ]
  },
  {
   "cell_type": "code",
   "execution_count": 47,
   "id": "e4b72695",
   "metadata": {},
   "outputs": [],
   "source": [
    "# declaring full_name\n",
    "full_name = 'Anas Abdullahi'"
   ]
  },
  {
   "cell_type": "code",
   "execution_count": 48,
   "id": "e843c9b2",
   "metadata": {},
   "outputs": [],
   "source": [
    "# declaring a country_variable\n",
    "country = 'Nigeria'"
   ]
  },
  {
   "cell_type": "code",
   "execution_count": 49,
   "id": "965a23a2",
   "metadata": {},
   "outputs": [],
   "source": [
    "# declaring a town_variable\n",
    "town = 'Gombe'"
   ]
  },
  {
   "cell_type": "code",
   "execution_count": 50,
   "id": "aaee12c5",
   "metadata": {},
   "outputs": [],
   "source": [
    "# declaring age_variable\n",
    "age = 56"
   ]
  },
  {
   "cell_type": "code",
   "execution_count": 51,
   "id": "9b73dfea",
   "metadata": {},
   "outputs": [],
   "source": [
    "# declaring is_married\n",
    "is_married = True"
   ]
  },
  {
   "cell_type": "code",
   "execution_count": 52,
   "id": "c79fae91",
   "metadata": {},
   "outputs": [],
   "source": [
    "# declaring is_true\n",
    "is_true = 0"
   ]
  },
  {
   "cell_type": "code",
   "execution_count": 53,
   "id": "aec3d48e",
   "metadata": {},
   "outputs": [],
   "source": [
    "# declaring is_light_on\n",
    "is_light_on = 1"
   ]
  },
  {
   "cell_type": "code",
   "execution_count": 54,
   "id": "0ea3ac2d",
   "metadata": {},
   "outputs": [],
   "source": [
    "# declaring multiple variable in one line\n",
    "first_name, last_name, country, age, is_married = 'Anas', 'Abdullahi', 'Nigeria', 56, True"
   ]
  },
  {
   "cell_type": "code",
   "execution_count": 55,
   "id": "e0409f79",
   "metadata": {},
   "outputs": [
    {
     "name": "stdout",
     "output_type": "stream",
     "text": [
      "First Name: Anas\n"
     ]
    }
   ],
   "source": [
    "print('First Name:', first_name)"
   ]
  },
  {
   "cell_type": "code",
   "execution_count": 56,
   "id": "ea9e39f1",
   "metadata": {},
   "outputs": [
    {
     "name": "stdout",
     "output_type": "stream",
     "text": [
      "<class 'str'>\n",
      "<class 'str'>\n",
      "<class 'str'>\n",
      "<class 'str'>\n",
      "<class 'str'>\n",
      "<class 'int'>\n",
      "<class 'bool'>\n",
      "<class 'int'>\n"
     ]
    }
   ],
   "source": [
    "# Printing out types\n",
    "print(type(first_name))\n",
    "print(type(last_name))\n",
    "print(type(full_name))\n",
    "print(type(country))\n",
    "print(type(town))\n",
    "print(type(age))\n",
    "print(type(is_married))\n",
    "print(type(is_light_on))"
   ]
  },
  {
   "cell_type": "code",
   "execution_count": 57,
   "id": "cdfca188",
   "metadata": {},
   "outputs": [
    {
     "name": "stdout",
     "output_type": "stream",
     "text": [
      "First name length:  4\n"
     ]
    }
   ],
   "source": [
    "print('First name length: ', len(first_name))"
   ]
  },
  {
   "cell_type": "code",
   "execution_count": 58,
   "id": "ac7f573d",
   "metadata": {},
   "outputs": [
    {
     "name": "stdout",
     "output_type": "stream",
     "text": [
      "Last name length:  9\n"
     ]
    }
   ],
   "source": [
    "print('Last name length: ', len(last_name))"
   ]
  },
  {
   "cell_type": "code",
   "execution_count": 59,
   "id": "e56687ec",
   "metadata": {},
   "outputs": [
    {
     "name": "stdout",
     "output_type": "stream",
     "text": [
      "Last name length:  9\n"
     ]
    }
   ],
   "source": [
    "print('Last name length: ', len(last_name))\n",
    "\n",
    "\n",
    "            "
   ]
  },
  {
   "cell_type": "code",
   "execution_count": 60,
   "id": "57596be8",
   "metadata": {},
   "outputs": [],
   "source": [
    "num_one = 5 \n",
    "num_two = 4 "
   ]
  },
  {
   "cell_type": "code",
   "execution_count": 61,
   "id": "efc147e1",
   "metadata": {},
   "outputs": [
    {
     "name": "stdout",
     "output_type": "stream",
     "text": [
      "9\n"
     ]
    }
   ],
   "source": [
    "print(5 + 4)"
   ]
  },
  {
   "cell_type": "code",
   "execution_count": 62,
   "id": "b2146fc3",
   "metadata": {},
   "outputs": [
    {
     "name": "stdout",
     "output_type": "stream",
     "text": [
      "1\n"
     ]
    }
   ],
   "source": [
    "print(5 - 4)"
   ]
  },
  {
   "cell_type": "code",
   "execution_count": 63,
   "id": "be28d669",
   "metadata": {},
   "outputs": [
    {
     "name": "stdout",
     "output_type": "stream",
     "text": [
      "20\n"
     ]
    }
   ],
   "source": [
    "print(5 * 4)"
   ]
  },
  {
   "cell_type": "code",
   "execution_count": 64,
   "id": "6638b366",
   "metadata": {},
   "outputs": [
    {
     "name": "stdout",
     "output_type": "stream",
     "text": [
      "1\n"
     ]
    }
   ],
   "source": [
    "print(5 % 4)"
   ]
  },
  {
   "cell_type": "code",
   "execution_count": 65,
   "id": "f3165800",
   "metadata": {},
   "outputs": [
    {
     "name": "stdout",
     "output_type": "stream",
     "text": [
      "625\n"
     ]
    }
   ],
   "source": [
    "print(5 ** 4)"
   ]
  },
  {
   "cell_type": "code",
   "execution_count": 66,
   "id": "b505aebe",
   "metadata": {},
   "outputs": [
    {
     "name": "stdout",
     "output_type": "stream",
     "text": [
      "1\n"
     ]
    }
   ],
   "source": [
    "print(5 // 4)"
   ]
  },
  {
   "cell_type": "code",
   "execution_count": 67,
   "id": "c52dc017",
   "metadata": {},
   "outputs": [
    {
     "name": "stdout",
     "output_type": "stream",
     "text": [
      "What is your name: Anas\n",
      "what is your surnameAbdullahi\n",
      "How old are you? 28\n",
      "from which country are you fromNigeria\n",
      "Anas\n",
      "Abdullahi\n",
      "28\n",
      "Nigeria\n"
     ]
    }
   ],
   "source": [
    "first_name = input('What is your name: ')\n",
    "last_name = input('what is your surname')\n",
    "age = input('How old are you? ')\n",
    "country = input('from which country are you from')\n",
    "\n",
    "print(first_name)\n",
    "print(last_name)\n",
    "print(age)\n",
    "print(country)\n"
   ]
  },
  {
   "cell_type": "code",
   "execution_count": 68,
   "id": "ec6b1976",
   "metadata": {},
   "outputs": [
    {
     "name": "stdout",
     "output_type": "stream",
     "text": [
      "input the radius of circle : 30\n",
      "the area of the circle is  2826.0\n"
     ]
    }
   ],
   "source": [
    "radius = float(input(\"input the radius of circle : \"))\n",
    "area = 3.14 * radius * radius\n",
    "\n",
    "print(\"the area of the circle is \" ,area)\n"
   ]
  },
  {
   "cell_type": "code",
   "execution_count": 69,
   "id": "21ef1d49",
   "metadata": {},
   "outputs": [
    {
     "name": "stdout",
     "output_type": "stream",
     "text": [
      "input the circumference of a circle : 30\n",
      "the circumference of a circle is  188.4\n"
     ]
    }
   ],
   "source": [
    "radius = float(input(\"input the circumference of a circle : \"))\n",
    "circum_of_circle = 2 * 3.14 * radius \n",
    "\n",
    "print(\"the circumference of a circle is \" ,circum_of_circle)"
   ]
  },
  {
   "cell_type": "code",
   "execution_count": 70,
   "id": "4019d502",
   "metadata": {},
   "outputs": [
    {
     "name": "stdout",
     "output_type": "stream",
     "text": [
      "\n",
      "Here is a list of the Python keywords.  Enter any keyword to get more help.\n",
      "\n",
      "False               break               for                 not\n",
      "None                class               from                or\n",
      "True                continue            global              pass\n",
      "__peg_parser__      def                 if                  raise\n",
      "and                 del                 import              return\n",
      "as                  elif                in                  try\n",
      "assert              else                is                  while\n",
      "async               except              lambda              with\n",
      "await               finally             nonlocal            yield\n",
      "\n"
     ]
    }
   ],
   "source": [
    "help('keywords')"
   ]
  },
  {
   "cell_type": "code",
   "execution_count": null,
   "id": "69f730ce",
   "metadata": {},
   "outputs": [],
   "source": []
  },
  {
   "cell_type": "code",
   "execution_count": null,
   "id": "1ddc28f6",
   "metadata": {},
   "outputs": [],
   "source": []
  }
 ],
 "metadata": {
  "kernelspec": {
   "display_name": "Python 3 (ipykernel)",
   "language": "python",
   "name": "python3"
  },
  "language_info": {
   "codemirror_mode": {
    "name": "ipython",
    "version": 3
   },
   "file_extension": ".py",
   "mimetype": "text/x-python",
   "name": "python",
   "nbconvert_exporter": "python",
   "pygments_lexer": "ipython3",
   "version": "3.9.12"
  }
 },
 "nbformat": 4,
 "nbformat_minor": 5
}
