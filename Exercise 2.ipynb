{
 "cells": [
  {
   "cell_type": "code",
   "execution_count": 2,
   "id": "1e494af3",
   "metadata": {},
   "outputs": [
    {
     "name": "stdout",
     "output_type": "stream",
     "text": [
      "29\n"
     ]
    }
   ],
   "source": [
    "# declaring age as integer\n",
    "my_age = 29\n",
    "print(my_age)"
   ]
  },
  {
   "cell_type": "code",
   "execution_count": 3,
   "id": "b8b25b5e",
   "metadata": {},
   "outputs": [
    {
     "name": "stdout",
     "output_type": "stream",
     "text": [
      "1.8 m\n"
     ]
    }
   ],
   "source": [
    "# declaring hieght as float\n",
    "my_hieght = 1.80\n",
    "print(my_hieght, 'm')"
   ]
  },
  {
   "cell_type": "code",
   "execution_count": 8,
   "id": "424015af",
   "metadata": {},
   "outputs": [
    {
     "name": "stdout",
     "output_type": "stream",
     "text": [
      "(6+2j)\n"
     ]
    }
   ],
   "source": [
    "# declaring a variable that stores a complex number\n",
    "y = 6 + 2j\n",
    "print(y)"
   ]
  },
  {
   "cell_type": "code",
   "execution_count": 5,
   "id": "58459db0",
   "metadata": {},
   "outputs": [
    {
     "name": "stdout",
     "output_type": "stream",
     "text": [
      "enter base : 20\n",
      "enter hieght : 10\n",
      "the area of a triangle is  100.0\n"
     ]
    }
   ],
   "source": [
    "# calculating an area of a triangle\n",
    "base = int(input(\"enter base : \"))\n",
    "hieght = int(input(\"enter hieght : \"))\n",
    "area = 0.5 * base * hieght\n",
    "print(\"the area of a triangle is \" ,area)"
   ]
  },
  {
   "cell_type": "code",
   "execution_count": 6,
   "id": "4337cdec",
   "metadata": {},
   "outputs": [
    {
     "name": "stdout",
     "output_type": "stream",
     "text": [
      "enter side a : 5\n",
      "enter side b : 4\n",
      "enter side c : 3\n",
      "the perimeter of a triangle is  12\n"
     ]
    }
   ],
   "source": [
    "# calculating the perimeter of a triangle\n",
    "a = int(input(\"enter side a : \"))\n",
    "b = int(input(\"enter side b : \"))\n",
    "c = int(input(\"enter side c : \"))\n",
    "perimeter = a + b + c\n",
    "print(\"the perimeter of a triangle is \" ,perimeter)"
   ]
  },
  {
   "cell_type": "code",
   "execution_count": 9,
   "id": "b9119a15",
   "metadata": {},
   "outputs": [
    {
     "name": "stdout",
     "output_type": "stream",
     "text": [
      "enter the length : 5\n",
      "enter the width : 7\n",
      "the area of the triangle is  35\n",
      "the perimeter of a triangle is  24\n"
     ]
    }
   ],
   "source": [
    "# calculating the area and perimeter of a triangle\n",
    "length = int(input(\"enter the length : \"))\n",
    "width = int(input(\"enter the width : \"))\n",
    "area = length * width\n",
    "perimeter = 2 * (length + width)\n",
    "print(\"the area of the triangle is \",area)\n",
    "print(\"the perimeter of a triangle is \" ,perimeter)\n"
   ]
  },
  {
   "cell_type": "code",
   "execution_count": 10,
   "id": "98ee1592",
   "metadata": {
    "scrolled": true
   },
   "outputs": [
    {
     "name": "stdout",
     "output_type": "stream",
     "text": [
      "Enter the radius : 6\n",
      "the area is  113.03999999999999\n",
      "the circum is  37.68\n"
     ]
    }
   ],
   "source": [
    "# calculating the area and circumference\n",
    "r = int(input(\"Enter the radius : \"))\n",
    "pi = 3.14\n",
    "area = pi * r * r\n",
    "circum = 2 * pi * r\n",
    "print(\"the area is \" ,area)\n",
    "print(\"the circum is \" ,circum)\n"
   ]
  },
  {
   "cell_type": "code",
   "execution_count": 14,
   "id": "f6b51590",
   "metadata": {},
   "outputs": [
    {
     "name": "stdout",
     "output_type": "stream",
     "text": [
      "m: 2\n",
      "x_intercept: 1\n",
      "y_intercept: -2\n"
     ]
    }
   ],
   "source": [
    "#  x-intercept and y-intercept of y = 2x - 2\n",
    "# slope (m) is the coffiecient of x which is 2\n",
    "m = 2\n",
    "\n",
    "# y_intercept is the value of y when x = 0 \n",
    "y_intercept = -2\n",
    "\n",
    "# x_intercept is the value of x when y = 0\n",
    "x_intercept = 1\n",
    "\n",
    "print(\"m:\", m)\n",
    "print(\"x_intercept:\", x_intercept)\n",
    "print(\"y_intercept:\", y_intercept)"
   ]
  },
  {
   "cell_type": "code",
   "execution_count": 12,
   "id": "21d7744f",
   "metadata": {},
   "outputs": [
    {
     "name": "stdout",
     "output_type": "stream",
     "text": [
      "enter the value of x1 : 2\n",
      "enter the value of y1 : 6\n",
      "enter the value of x2 : 2\n",
      "enter the value of y2 : 10\n",
      "the slope is  5.0\n"
     ]
    }
   ],
   "source": [
    "# finding a slope\n",
    "x1 = int(input(\"enter the value of x1 : \"))\n",
    "y1 = int(input(\"enter the value of y1 : \"))\n",
    "x2 = int(input(\"enter the value of x2 : \"))\n",
    "y2 = int(input(\"enter the value of y2 : \"))\n",
    "m = y2 - y1 / x2 - x1\n",
    "print(\"the slope is \" ,m)"
   ]
  },
  {
   "cell_type": "code",
   "execution_count": 15,
   "id": "eeff551e",
   "metadata": {},
   "outputs": [
    {
     "name": "stdout",
     "output_type": "stream",
     "text": [
      "False\n",
      "True\n",
      "False\n",
      "True\n"
     ]
    }
   ],
   "source": [
    "# comparing the slopes in task 8 and 9\n",
    "slope1 = 2\n",
    "slope2 = 5.0\n",
    "\n",
    "print( slope1 == slope2 )\n",
    "print( slope1 < slope2 )\n",
    "print( slope1 > slope2 )\n",
    "print( slope1 != slope2 )"
   ]
  },
  {
   "cell_type": "code",
   "execution_count": 25,
   "id": "4f0592d8",
   "metadata": {},
   "outputs": [
    {
     "name": "stdout",
     "output_type": "stream",
     "text": [
      "enter any value as x : -3\n",
      "y = 0\n"
     ]
    }
   ],
   "source": [
    "# findin the value of y\n",
    "x = int(input(\"enter any value as x : \"))\n",
    "y = x**2 + 6*x + 9\n",
    "print(\"y =\" , y)"
   ]
  },
  {
   "cell_type": "code",
   "execution_count": 26,
   "id": "b4dc8bd9",
   "metadata": {},
   "outputs": [
    {
     "name": "stdout",
     "output_type": "stream",
     "text": [
      "6\n",
      "6\n",
      "False\n"
     ]
    }
   ],
   "source": [
    "# finding length of python and dragon\n",
    "print(len(\"python\"))\n",
    "print(len(\"dragon\"))\n",
    "print(len(\"python\") < len(\"dragon\") )"
   ]
  },
  {
   "cell_type": "code",
   "execution_count": 27,
   "id": "67865db4",
   "metadata": {},
   "outputs": [
    {
     "name": "stdout",
     "output_type": "stream",
     "text": [
      "on in python True\n",
      "on in dragon True\n"
     ]
    }
   ],
   "source": [
    "print('on in python', 'on' in 'python')\n",
    "print('on in dragon', 'on' in 'dragon')"
   ]
  },
  {
   "cell_type": "code",
   "execution_count": 30,
   "id": "6caafc85",
   "metadata": {},
   "outputs": [
    {
     "name": "stdout",
     "output_type": "stream",
     "text": [
      "i hope this course is not full of jargon False\n"
     ]
    }
   ],
   "source": [
    "print('i hope this course is not full of jargon', 'jagon' in ' jargon' )"
   ]
  },
  {
   "cell_type": "code",
   "execution_count": 32,
   "id": "4103da34",
   "metadata": {},
   "outputs": [
    {
     "name": "stdout",
     "output_type": "stream",
     "text": [
      "ON in python False\n",
      "ON in dragon False\n"
     ]
    }
   ],
   "source": [
    "print('ON in python', 'ON' in 'python')\n",
    "print('ON in dragon', 'ON' in 'dragon')"
   ]
  },
  {
   "cell_type": "code",
   "execution_count": 33,
   "id": "96d5310c",
   "metadata": {},
   "outputs": [
    {
     "name": "stdout",
     "output_type": "stream",
     "text": [
      "The length of the text is: 6\n",
      "The length as a float is: 6.0\n"
     ]
    }
   ],
   "source": [
    "# Define the text\n",
    "text = \"python\"\n",
    "\n",
    "# Find the length of the text\n",
    "length = len(text)\n",
    "\n",
    "# Convert the length to a float\n",
    "length_float = float(length)\n",
    "\n",
    "# Print the result\n",
    "print(f\"The length of the text is: {length}\")\n",
    "print(f\"The length as a float is: {length_float}\")\n"
   ]
  },
  {
   "cell_type": "code",
   "execution_count": 34,
   "id": "7daeb010",
   "metadata": {},
   "outputs": [
    {
     "name": "stdout",
     "output_type": "stream",
     "text": [
      "Enter a number: 9\n",
      "9 is not an even number.\n"
     ]
    }
   ],
   "source": [
    "# Function to check if a number is even\n",
    "def is_even(number):\n",
    "    if number % 2 == 0:\n",
    "        return True\n",
    "    else:\n",
    "        return False\n",
    "\n",
    "# Input from user\n",
    "num = int(input(\"Enter a number: \"))\n",
    "\n",
    "# Check if the number is even or not\n",
    "if is_even(num):\n",
    "    print(f\"{num} is an even number.\")\n",
    "else:\n",
    "    print(f\"{num} is not an even number.\")\n"
   ]
  },
  {
   "cell_type": "code",
   "execution_count": 40,
   "id": "3ebc8a9f",
   "metadata": {},
   "outputs": [
    {
     "name": "stdout",
     "output_type": "stream",
     "text": [
      "2\n",
      "2\n",
      "True\n"
     ]
    }
   ],
   "source": [
    "# Floor division of 7 by 3\n",
    "floor_div_result = 7 // 3\n",
    "\n",
    "# Convert 2.7 to an integer\n",
    "converted_value = int(2.7)\n",
    "\n",
    "# Check if they are equal\n",
    "print(floor_div_result)\n",
    "print(converted_value)\n",
    "print(floor_div_result == converted_value)"
   ]
  },
  {
   "cell_type": "code",
   "execution_count": 36,
   "id": "17614d25",
   "metadata": {},
   "outputs": [
    {
     "name": "stdout",
     "output_type": "stream",
     "text": [
      "False\n"
     ]
    }
   ],
   "source": [
    "print('10'== 10)"
   ]
  },
  {
   "cell_type": "code",
   "execution_count": 42,
   "id": "8cfba289",
   "metadata": {},
   "outputs": [
    {
     "name": "stdout",
     "output_type": "stream",
     "text": [
      "Enter the number of hours worked: 40\n",
      "Enter the rate per hour: 28\n",
      "Weekly earning is: 1120.00\n"
     ]
    }
   ],
   "source": [
    "# Prompt the user for hours worked\n",
    "hours = float(input(\"Enter the number of hours worked: \"))\n",
    "\n",
    "# Prompt the user for the rate per hour\n",
    "rate_per_hour = float(input(\"Enter the rate per hour: \"))\n",
    "\n",
    "# Calculate the total pay\n",
    "pay = hours * rate_per_hour\n",
    "\n",
    "# Display the result\n",
    "print(f\"Weekly earning is: {pay:.2f}\")\n"
   ]
  },
  {
   "cell_type": "code",
   "execution_count": 44,
   "id": "e062e5d3",
   "metadata": {},
   "outputs": [
    {
     "name": "stdout",
     "output_type": "stream",
     "text": [
      "Enter the number of years you have live: 100\n",
      "You have live for 3153600000 seconds \n"
     ]
    }
   ],
   "source": [
    "# Prompt the user for the number of years\n",
    "years = int(input(\"Enter the number of years you have live: \"))\n",
    "\n",
    "# Constants: Number of days in a year, hours in a day, minutes in an hour, and seconds in a minute\n",
    "days_per_year = 365\n",
    "hours_per_day = 24\n",
    "minutes_per_hour = 60\n",
    "seconds_per_minute = 60\n",
    "\n",
    "# Calculate the number of seconds in the given years\n",
    "seconds = years * days_per_year * hours_per_day * minutes_per_hour * seconds_per_minute\n",
    "\n",
    "print(f\"You have live for {seconds} seconds \")\n"
   ]
  },
  {
   "cell_type": "code",
   "execution_count": 47,
   "id": "7438765b",
   "metadata": {},
   "outputs": [
    {
     "name": "stdout",
     "output_type": "stream",
     "text": [
      "1 1 1 1 1\n",
      "2 1 2 4 8\n",
      "3 1 3 9 27\n",
      "4 1 4 16 64\n",
      "5 1 5 25 125\n"
     ]
    }
   ],
   "source": [
    "print('1 1 1 1 1')\n",
    "print('2 1 2 4 8')\n",
    "print('3 1 3 9 27')\n",
    "print('4 1 4 16 64')\n",
    "print('5 1 5 25 125') "
   ]
  },
  {
   "cell_type": "code",
   "execution_count": 48,
   "id": "a9a8c1d9",
   "metadata": {},
   "outputs": [
    {
     "data": {
      "text/plain": [
       "'C:\\\\Users\\\\Hp\\\\ML CLASS\\\\INTRODUCTION'"
      ]
     },
     "execution_count": 48,
     "metadata": {},
     "output_type": "execute_result"
    }
   ],
   "source": [
    "pwd"
   ]
  },
  {
   "cell_type": "code",
   "execution_count": null,
   "id": "1423a451",
   "metadata": {},
   "outputs": [],
   "source": []
  }
 ],
 "metadata": {
  "kernelspec": {
   "display_name": "Python 3 (ipykernel)",
   "language": "python",
   "name": "python3"
  },
  "language_info": {
   "codemirror_mode": {
    "name": "ipython",
    "version": 3
   },
   "file_extension": ".py",
   "mimetype": "text/x-python",
   "name": "python",
   "nbconvert_exporter": "python",
   "pygments_lexer": "ipython3",
   "version": "3.9.12"
  }
 },
 "nbformat": 4,
 "nbformat_minor": 5
}
